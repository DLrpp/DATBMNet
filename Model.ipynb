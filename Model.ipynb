{
 "cells": [
  {
   "cell_type": "code",
   "execution_count": 1,
   "id": "3e9018be-2596-4daa-8bc2-9e724591b662",
   "metadata": {},
   "outputs": [],
   "source": [
    "from improved_DualBlock import DualBlock"
   ]
  },
  {
   "cell_type": "code",
   "execution_count": 6,
   "id": "5deb2e59-8571-4b70-802f-c8d1ea06d3b7",
   "metadata": {},
   "outputs": [],
   "source": [
    "#Define model\n",
    "def build_model(input_shape): \n",
    "    input_layer = Input(shape=input_shape) \n",
    "    lstm1 = Bidirectional(LSTM(units=128, input_shape=(h1, h2), return_sequences=True))(input_layer)\n",
    "    cbc0 = DualBlock()\n",
    "    cb0 = cbc0(lstm1)\n",
    "    lstm2 = Bidirectional(LSTM(units=256,input_shape=(h1, h2), return_sequences=True))(input_layer)\n",
    "    cbp0 = DualBlock()\n",
    "    cp0 = cbp0(lstm2)\n",
    "    cc0 = concatenate([cb0,cp0])\n",
    "    lstm3 = Bidirectional(LSTM(units=128, input_shape=(h3,  h4), return_sequences=True))(cc0)\n",
    "    cbc1 = DualBlock()\n",
    "    cb1 = cbc1(lstm3)\n",
    "    lstm4 = Bidirectional(LSTM(units=256,input_shape=(h3,  h4), return_sequences=True))(cc0)\n",
    "    cbp1 = DualBlock()\n",
    "    cp1 = cbp1(lstm4)\n",
    "    cc1 = concatenate([cb1,cp1])\n",
    "    cc2 = concatenate([cc0,cc1])\n",
    "    lstm5 = Bidirectional(LSTM(units=128, input_shape=(h3,  h4), return_sequences=True))(cc2)\n",
    "    cbc5 = DualBlock()\n",
    "    cb5 = cbc5(lstm5)\n",
    "    lstm6 = Bidirectional(LSTM(units=256, input_shape=(h3,  h4), return_sequences=True))(cc2)\n",
    "    cbc6 = DualBlock()\n",
    "    cb6 = cbc6(lstm6)\n",
    "    cc3 = concatenate([cb5,cb6])\n",
    "    cc4 = concatenate([cc2,cc3])\n",
    "    cc5 = Flatten()(cc4)\n",
    "    dense_output = Dense(512, activation='hard_sigmoid')(cc5)\n",
    "    output = Dense(1)(dense_output)\n",
    "\n",
    "    model = Model(inputs=input_layer, outputs=output)\n",
    "    return model"
   ]
  }
 ],
 "metadata": {
  "kernelspec": {
   "display_name": "Python 3",
   "language": "python",
   "name": "python3"
  },
  "language_info": {
   "codemirror_mode": {
    "name": "ipython",
    "version": 3
   },
   "file_extension": ".py",
   "mimetype": "text/x-python",
   "name": "python",
   "nbconvert_exporter": "python",
   "pygments_lexer": "ipython3",
   "version": "3.8.10"
  },
  "widgets": {
   "application/vnd.jupyter.widget-state+json": {
    "state": {},
    "version_major": 2,
    "version_minor": 0
   }
  }
 },
 "nbformat": 4,
 "nbformat_minor": 5
}
